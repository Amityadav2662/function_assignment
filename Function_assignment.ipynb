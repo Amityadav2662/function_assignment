{
 "cells": [
  {
   "cell_type": "code",
   "execution_count": 54,
   "id": "1d4d9f3b-777f-430b-b219-48afdc75508e",
   "metadata": {},
   "outputs": [],
   "source": [
    "\"\"\"Q1. Which keyword is used to create a function? Create a function to return a list of odd numbers in the\n",
    "range of 1 to 25.\"\"\"\n",
    "\n",
    "#Ans. def keyword is used to create a function.\n",
    "\n",
    "def odd():\n",
    "    l = []\n",
    "    for i in range(1,25):\n",
    "        if i % 2 != 0:\n",
    "            l.append(i)\n",
    "    return l"
   ]
  },
  {
   "cell_type": "code",
   "execution_count": 55,
   "id": "fcbabbbd-e53d-43a9-b9c5-fe676e41188e",
   "metadata": {},
   "outputs": [
    {
     "data": {
      "text/plain": [
       "[1, 3, 5, 7, 9, 11, 13, 15, 17, 19, 21, 23]"
      ]
     },
     "execution_count": 55,
     "metadata": {},
     "output_type": "execute_result"
    }
   ],
   "source": [
    "odd()"
   ]
  },
  {
   "cell_type": "code",
   "execution_count": null,
   "id": "e66d8800-130f-47fa-a06f-64511bc1e90e",
   "metadata": {},
   "outputs": [],
   "source": [
    "\"\"\"Q2. Why *args and **kwargs is used in some functions? Create a function each for *args and **kwargs\n",
    "to demonstrate their use.\"\"\"\n",
    "\n",
    "*args : It is used to pass n numbers of argument inside the function.\n",
    "**kwargs : The arguments are passed as a dictionary and these arguments make a dictionary inside function with name same as the parameter excluding \n",
    "double asterisk **."
   ]
  },
  {
   "cell_type": "code",
   "execution_count": 56,
   "id": "dea1727a-0422-4396-9203-795a2897be1f",
   "metadata": {},
   "outputs": [],
   "source": [
    "# *args \n",
    "def func(*args):\n",
    "    return args"
   ]
  },
  {
   "cell_type": "code",
   "execution_count": 57,
   "id": "8b6834a2-6654-431f-b87c-7366f2d9587d",
   "metadata": {},
   "outputs": [
    {
     "data": {
      "text/plain": [
       "(1, 2, 3, 'amit', 'yadav', 34.5, (4+5j), [1, 24, 4])"
      ]
     },
     "execution_count": 57,
     "metadata": {},
     "output_type": "execute_result"
    }
   ],
   "source": [
    "func(1,2,3,\"amit\",\"yadav\",34.5,4+5j,[1,24,4])"
   ]
  },
  {
   "cell_type": "markdown",
   "id": "899c6c3c-b455-4401-a1de-77811cdf0c51",
   "metadata": {},
   "source": [
    "In the following example i make a function called func and then pass the argument *args and return the args after that you have seen I put many number of arguments in different form inside the func and it will execute and give the output."
   ]
  },
  {
   "cell_type": "code",
   "execution_count": 58,
   "id": "c3e9dc35-bc8d-487c-841c-0d78f3a96357",
   "metadata": {},
   "outputs": [],
   "source": [
    "# **kwargs\n",
    "def dicti(**kwargs):\n",
    "    return kwargs"
   ]
  },
  {
   "cell_type": "code",
   "execution_count": 59,
   "id": "0986ab15-e4a8-41f9-9ba0-8e5a73605ca8",
   "metadata": {},
   "outputs": [
    {
     "data": {
      "text/plain": [
       "{'a': [1, 2, 3, 5], 'b': (2, 5, 4), 'c': 'datascience'}"
      ]
     },
     "execution_count": 59,
     "metadata": {},
     "output_type": "execute_result"
    }
   ],
   "source": [
    "dicti(a = [1,2,3,5],b = (2,5,4),c= 'datascience')"
   ]
  },
  {
   "cell_type": "markdown",
   "id": "7ecb5b31-07fc-4890-8ae5-ec5fc5fb3d95",
   "metadata": {},
   "source": [
    "In the following example i make a function called dicti and then pass the argument **kwargs and return the kwargs after that you have seen The arguments are passed as a dictionary and make a dictionary inside function called dicti and give the output."
   ]
  },
  {
   "cell_type": "code",
   "execution_count": 60,
   "id": "b8b54d4a-4ca5-457c-b4e0-5b8049cfa13a",
   "metadata": {},
   "outputs": [],
   "source": [
    "\"\"\"Q3. What is an iterator in python? Name the method used to initialise the iterator object and the method used \n",
    "for iteration. Use these methods to print the first five elements of the given list [2, 4, 6, 8, 10, 12, 14,16, 18, 20].\"\"\"\n",
    "\n",
    "#Iterator in Python is an object that is used to iterate over iterable objects like lists, tuples, dicts, and sets. The iterator object is \n",
    "#initialized using the iter() method. It uses the next() method for iteration.\n",
    "\n",
    "# iter() method is used to initialise the iterator object and the method used for iteration is next().\n",
    "\n",
    "l = [2, 4, 6, 8, 10, 12, 14,16, 18, 20]"
   ]
  },
  {
   "cell_type": "code",
   "execution_count": 61,
   "id": "52ad5416-5a57-496f-8a25-5db6b85bcb25",
   "metadata": {},
   "outputs": [],
   "source": [
    "l1 = iter(l)"
   ]
  },
  {
   "cell_type": "code",
   "execution_count": 62,
   "id": "2e5345a8-9b80-40de-ae8a-06d0c5d9491c",
   "metadata": {},
   "outputs": [
    {
     "data": {
      "text/plain": [
       "2"
      ]
     },
     "execution_count": 62,
     "metadata": {},
     "output_type": "execute_result"
    }
   ],
   "source": [
    "next(l1)"
   ]
  },
  {
   "cell_type": "code",
   "execution_count": 63,
   "id": "3e903a2f-cac9-492b-82dd-e6921a21ade7",
   "metadata": {},
   "outputs": [
    {
     "data": {
      "text/plain": [
       "4"
      ]
     },
     "execution_count": 63,
     "metadata": {},
     "output_type": "execute_result"
    }
   ],
   "source": [
    "next(l1)"
   ]
  },
  {
   "cell_type": "code",
   "execution_count": 64,
   "id": "d7f5ef90-9e21-458d-9fcb-272ff09d5a78",
   "metadata": {},
   "outputs": [
    {
     "data": {
      "text/plain": [
       "6"
      ]
     },
     "execution_count": 64,
     "metadata": {},
     "output_type": "execute_result"
    }
   ],
   "source": [
    "next(l1)"
   ]
  },
  {
   "cell_type": "code",
   "execution_count": 65,
   "id": "52ff8e73-0803-41ae-a417-4a03c08046be",
   "metadata": {},
   "outputs": [
    {
     "data": {
      "text/plain": [
       "8"
      ]
     },
     "execution_count": 65,
     "metadata": {},
     "output_type": "execute_result"
    }
   ],
   "source": [
    "next(l1)"
   ]
  },
  {
   "cell_type": "code",
   "execution_count": 66,
   "id": "6b60ce6d-8157-4463-b327-396579e58170",
   "metadata": {},
   "outputs": [
    {
     "data": {
      "text/plain": [
       "10"
      ]
     },
     "execution_count": 66,
     "metadata": {},
     "output_type": "execute_result"
    }
   ],
   "source": [
    "next(l1)"
   ]
  },
  {
   "cell_type": "code",
   "execution_count": 67,
   "id": "789f0bd1-9952-4906-86ff-52afb47cfa93",
   "metadata": {},
   "outputs": [],
   "source": [
    "\"\"\"Q4. What is a generator function in python? Why yield keyword is used? Give an example of a generator function.\"\"\"\n",
    "\n",
    "# Ans. A generator is a function that returns an iterator that produces a sequence of values when iterated over. Generators are useful when we want \n",
    "# to produce a large sequence of values, but we don't want to store all of them in memory at once.\n",
    "\n",
    "# Ans. The Yield keyword in Python is similar to a return statement used for returning values or objects in Python.there is a slight difference. \n",
    "# The yield statement returns a generator object to the one who calls the function which contains yield, instead of simply returning a value.\n",
    "\n",
    "# Example of generator function\n",
    "def gener(n):\n",
    "    a , b = 0 , 1\n",
    "    for i in range(n):\n",
    "        yield a\n",
    "        a , b = b , a + b"
   ]
  },
  {
   "cell_type": "code",
   "execution_count": 68,
   "id": "19d4f71d-781f-4fce-863d-1b9de45b0f89",
   "metadata": {},
   "outputs": [
    {
     "name": "stdout",
     "output_type": "stream",
     "text": [
      "0\n",
      "1\n",
      "1\n",
      "2\n",
      "3\n",
      "5\n",
      "8\n",
      "13\n",
      "21\n",
      "34\n"
     ]
    }
   ],
   "source": [
    "for i in gener(10):\n",
    "    print(i)"
   ]
  },
  {
   "cell_type": "code",
   "execution_count": 69,
   "id": "63f960c9-f47b-43a0-9098-abca38d32c73",
   "metadata": {},
   "outputs": [],
   "source": [
    "# Q5. Create a generator function for prime numbers less than 1000. Use the next() method to print the first 20 prime numbers.\n",
    "\n",
    "def prime_gen():\n",
    "    for a in range(1,1000):\n",
    "        count = 0\n",
    "        for b in range(1,a):\n",
    "            if a % b == 0:\n",
    "                count += 1\n",
    "        if count == 1:\n",
    "            yield a  "
   ]
  },
  {
   "cell_type": "code",
   "execution_count": 70,
   "id": "618198bb-d02e-4b99-a27b-a01033094dc8",
   "metadata": {},
   "outputs": [],
   "source": [
    "i,t = 0,prime_gen()"
   ]
  },
  {
   "cell_type": "code",
   "execution_count": 71,
   "id": "8a5515bc-3453-4dde-a1d4-c5f52cf32da3",
   "metadata": {},
   "outputs": [
    {
     "name": "stdout",
     "output_type": "stream",
     "text": [
      "2\n",
      "3\n",
      "5\n",
      "7\n",
      "11\n",
      "13\n",
      "17\n",
      "19\n",
      "23\n",
      "29\n",
      "31\n",
      "37\n",
      "41\n",
      "43\n",
      "47\n",
      "53\n",
      "59\n",
      "61\n",
      "67\n",
      "71\n"
     ]
    }
   ],
   "source": [
    "while i < 20:\n",
    "    print(next(t))\n",
    "    i += 1"
   ]
  },
  {
   "cell_type": "code",
   "execution_count": 72,
   "id": "eb015224-2777-4472-b368-90a09be2e386",
   "metadata": {},
   "outputs": [
    {
     "name": "stdout",
     "output_type": "stream",
     "text": [
      "0\n",
      "1\n",
      "1\n",
      "2\n",
      "3\n",
      "5\n",
      "8\n",
      "13\n",
      "21\n",
      "34\n",
      "55\n"
     ]
    }
   ],
   "source": [
    "#Q6. Write a python program to print the first 10 Fibonacci numbers using a while loop.\n",
    "\n",
    "i = 0\n",
    "a , b = 0 , 1\n",
    "while i <= 10:\n",
    "    print(a)\n",
    "    a , b = b , a + b                          \n",
    "    i += 1"
   ]
  },
  {
   "cell_type": "code",
   "execution_count": 84,
   "id": "0d06cd06-7fd9-4234-b3de-01daac9ee5fb",
   "metadata": {},
   "outputs": [
    {
     "name": "stdout",
     "output_type": "stream",
     "text": [
      "['p', 'w', 's', 'k', 'i', 'l', 'l', 's']\n"
     ]
    }
   ],
   "source": [
    "#Q7. Write a List Comprehension to iterate through the given string: ‘pwskills’. Expected output: ['p', 'w', 's', 'k', 'i', 'l', 'l', 's']\n",
    "\n",
    "str = \"pwskills\"\n",
    "str_1 = iter(str)\n",
    "l_c = [i for i in str]\n",
    "print(l_c)"
   ]
  },
  {
   "cell_type": "code",
   "execution_count": 75,
   "id": "c19ab673-fa33-45d1-8d57-57b1dffde24e",
   "metadata": {},
   "outputs": [
    {
     "name": "stdin",
     "output_type": "stream",
     "text": [
      "Enter the number 121\n"
     ]
    },
    {
     "name": "stdout",
     "output_type": "stream",
     "text": [
      "Number is palidrome\n"
     ]
    }
   ],
   "source": [
    "# Q8. Write a python program to check whether a given number is Palindrome or not using a while loop.\n",
    "\n",
    "i = int(input(\"Enter the number\"))\n",
    "rev = 0\n",
    "a = i\n",
    "while(i > 0):\n",
    "    rev = rev * 10 + i % 10\n",
    "    i = i//10\n",
    "if (a == rev):\n",
    "    print(\"Number is palidrome\")\n",
    "else:\n",
    "    print(\"Number is not palidrome\")"
   ]
  },
  {
   "cell_type": "code",
   "execution_count": 76,
   "id": "439f54ee-a0ee-440f-bb5b-d7b55a4c954a",
   "metadata": {},
   "outputs": [
    {
     "name": "stdout",
     "output_type": "stream",
     "text": [
      "[1, 3, 5, 7, 9, 11, 13, 15, 17, 19, 21, 23, 25, 27, 29, 31, 33, 35, 37, 39, 41, 43, 45, 47, 49, 51, 53, 55, 57, 59, 61, 63, 65, 67, 69, 71, 73, 75, 77, 79, 81, 83, 85, 87, 89, 91, 93, 95, 97, 99]\n"
     ]
    }
   ],
   "source": [
    "\"\"\"Q9. Write a code to print odd numbers from 1 to 100 using list comprehension.\n",
    "Note: Use a list comprehension to create a list from 1 to 100 and use another List comprehension to filter\n",
    "out odd numbers.\"\"\"\n",
    "\n",
    "l1 = [i for i in range(1,100)]\n",
    "l2 = [j for j in l1 if j%2!=0 ]\n",
    "print(l2)"
   ]
  },
  {
   "cell_type": "code",
   "execution_count": null,
   "id": "b660f884-43ac-46f7-9025-ee8b126a6c0d",
   "metadata": {},
   "outputs": [],
   "source": []
  }
 ],
 "metadata": {
  "kernelspec": {
   "display_name": "Python 3 (ipykernel)",
   "language": "python",
   "name": "python3"
  },
  "language_info": {
   "codemirror_mode": {
    "name": "ipython",
    "version": 3
   },
   "file_extension": ".py",
   "mimetype": "text/x-python",
   "name": "python",
   "nbconvert_exporter": "python",
   "pygments_lexer": "ipython3",
   "version": "3.10.6"
  }
 },
 "nbformat": 4,
 "nbformat_minor": 5
}
